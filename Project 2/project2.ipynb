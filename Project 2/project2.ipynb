{
 "cells": [
  {
   "cell_type": "markdown",
   "id": "547d4483-a381-4c6e-bff6-fc83dc4d4bda",
   "metadata": {},
   "source": [
    "# Project 2"
   ]
  },
  {
   "cell_type": "markdown",
   "id": "74453f0b-eb60-4bd6-b5e2-5fbbc06201c3",
   "metadata": {
    "tags": []
   },
   "source": [
    "# Purpose"
   ]
  },
  {
   "cell_type": "markdown",
   "id": "c930cdaf-14a9-4acf-a469-12467258d408",
   "metadata": {},
   "source": [
    "This [November 2021 CNBC article](https://www.cnbc.com/2021/11/09/bitcoin-vs-gold-leading-gold-authorities-on-inflation-hedge-battle.html) on Bitcoin and gold as inflation and market risk hedges motivated this project.\n",
    "I have two goals for this project:\n",
    "\n",
    "1. To help you master data analysis\n",
    "1. To help you evaluate articles in the popular media using your data analysis skills"
   ]
  },
  {
   "cell_type": "code",
   "execution_count": null,
   "id": "6ec39344-efba-459b-99ff-8efc253a7e7a",
   "metadata": {
    "tags": []
   },
   "outputs": [],
   "source": [
    "import pandas as pd\n",
    "import numpy as np\n",
    "import matplotlib.pyplot as plt"
   ]
  },
  {
   "cell_type": "code",
   "execution_count": null,
   "id": "48ddc7d0-f1d6-4221-99bf-40d102373bcc",
   "metadata": {},
   "outputs": [],
   "source": [
    "pd.set_option('display.float_format', '{:.4f}'.format)\n",
    "%precision 4\n",
    "%config InlineBackend.figure_format = 'retina'"
   ]
  },
  {
   "cell_type": "code",
   "execution_count": null,
   "id": "55113eb7-a701-4690-a4e6-a7f41776384a",
   "metadata": {},
   "outputs": [],
   "source": [
    "import yfinance as yf\n",
    "import pandas_datareader as pdr\n",
    "import requests_cache\n",
    "session = requests_cache.CachedSession()"
   ]
  },
  {
   "cell_type": "code",
   "execution_count": null,
   "id": "f0ab2658-0092-4ad4-a7eb-3fb90c3e3f39",
   "metadata": {},
   "outputs": [],
   "source": [
    "import scipy.optimize as sco\n",
    "import seaborn as sns\n",
    "import statsmodels.formula.api as smf"
   ]
  },
  {
   "cell_type": "markdown",
   "id": "6b129c26-f969-4767-9f06-ba7f991b5f1b",
   "metadata": {
    "tags": []
   },
   "source": [
    "# Tasks"
   ]
  },
  {
   "cell_type": "code",
   "execution_count": null,
   "id": "811d3c30-41e4-4c37-a713-0b8ad34d15ed",
   "metadata": {},
   "outputs": [],
   "source": [
    "# Download Bitcoin data\n",
    "btc = (\n",
    "    yf.download(tickers='BTC-USD', progress=False)\n",
    "    .assign(Date=lambda x: x.index.tz_localize(None))\n",
    "    .set_index('Date')\n",
    "    .rename_axis(columns='Variable')\n",
    ")\n",
    "\n",
    "# Download Gold data\n",
    "gold = (\n",
    "    yf.download(tickers='GLD', progress=False)\n",
    "    .assign(Date=lambda x: x.index.tz_localize(None))\n",
    "    .set_index('Date')\n",
    "    .rename_axis(columns='Variable')\n",
    ")\n",
    "\n",
    "# Download PCEPI data from FRED\n",
    "pcepi = pdr.DataReader(\n",
    "    'PCEPI',\n",
    "    start='1900',\n",
    "    data_source='fred'\n",
    ")\n",
    "\n",
    "# Download SP100 data\n",
    "wiki = pd.read_html('https://en.wikipedia.org/wiki/S%26P_100')\n",
    "wiki_ticker=(wiki[2]['Symbol']).apply(lambda x: x.replace('.', '-')).tolist()\n",
    "wiki_ticker\n",
    "SP100 = (\n",
    "    yf.download(tickers=wiki_ticker, progress=False)\n",
    "    .assign(Date=lambda x: x.index.tz_localize(None))\n",
    "    .set_index('Date')\n",
    "    .rename_axis(columns=['Variable', 'Ticker'])\n",
    "    \n",
    ")\n",
    "\n",
    "# Download French Fama data \n",
    "ff = (\n",
    "    pdr.DataReader(\n",
    "        name='F-F_Research_Data_Factors_daily',\n",
    "        data_source='famafrench',\n",
    "        start='1900',\n",
    "        session=session\n",
    "    )\n",
    "    [0]\n",
    "    .assign(Mkt = lambda x: x['Mkt-RF'] + x['RF'])\n",
    "    .div(100)\n",
    ")\n",
    "\n",
    "def port_vol(x, r, ppy):\n",
    "    return np.sqrt(ppy) * r.dot(x).std()\n",
    "\n",
    "def port_mean(x, r, ppy):\n",
    "    return ppy * r.dot(x).mean()"
   ]
  },
  {
   "cell_type": "code",
   "execution_count": null,
   "id": "2153da64-aa29-4f13-8c33-ef3ac2fdfc58",
   "metadata": {},
   "outputs": [],
   "source": [
    "ff"
   ]
  },
  {
   "cell_type": "code",
   "execution_count": null,
   "id": "340a7ded-e2db-4ee4-86c8-c51ec83522b0",
   "metadata": {},
   "outputs": [],
   "source": [
    "gold"
   ]
  },
  {
   "cell_type": "code",
   "execution_count": null,
   "id": "8b4ff76e-7103-4ecd-b528-4b7c7e6a5f3a",
   "metadata": {},
   "outputs": [],
   "source": [
    "pcepi"
   ]
  },
  {
   "cell_type": "code",
   "execution_count": null,
   "id": "dadf0b69-44c1-4274-9722-51bdcdfa8deb",
   "metadata": {},
   "outputs": [],
   "source": [
    "SP100"
   ]
  },
  {
   "cell_type": "code",
   "execution_count": null,
   "id": "32a7abc7-2e1a-4697-8718-75efac722a6d",
   "metadata": {},
   "outputs": [],
   "source": [
    "btc"
   ]
  },
  {
   "cell_type": "code",
   "execution_count": null,
   "id": "db461ca0-9412-4feb-b1ce-de23c5551370",
   "metadata": {},
   "outputs": [],
   "source": []
  },
  {
   "cell_type": "markdown",
   "id": "4971cd98-23a7-4423-88f5-44644c91510c",
   "metadata": {
    "tags": []
   },
   "source": [
    "## Task 1: Do Bitcoin and gold hedge inflation risk?"
   ]
  },
  {
   "cell_type": "markdown",
   "id": "382ac8e9-912a-4389-b871-2a29e6d68090",
   "metadata": {},
   "source": [
    "Use the typical finance definition of [hedge](https://www.investopedia.com/terms/h/hedge.asp):\n",
    "\n",
    "> To hedge, in finance, is to take an offsetting position in an asset or investment that reduces the price risk of an existing position. A hedge is therefore a trade that is made with the purpose of reducing the risk of adverse price movements in another asset. Normally, a hedge consists of taking the opposite position in a related security or in a derivative security based on the asset to be hedged. \n",
    "\n",
    "Here are a few suggestions:\n",
    "\n",
    "1. Measure Bitcoin's price with [BTC-USD](https://finance.yahoo.com/quote/BTC-USD?p=BTC-USD&.tsrc=fin-srch) and gold's price with [GLD](https://finance.yahoo.com/quote/GLD?p=GLD&.tsrc=fin-srch)\n",
    "1. Throughout the project, assume Bitcoin and U.S. public equity markets have the same closing time\n",
    "1. Measure the price level with [PCEPI](https://fred.stlouisfed.org/series/PCEPI/) from the Federal Reserve Database (FRED), which is downloadable with `pdr.DataReader()`\n",
    "1. Measure inflation (i.e., the rate of change in the price level) as the percent change in PCEPI"
   ]
  },
  {
   "cell_type": "code",
   "execution_count": null,
   "id": "ac3404bf-a992-49de-9b4c-e47359f612f0",
   "metadata": {},
   "outputs": [],
   "source": []
  },
  {
   "cell_type": "code",
   "execution_count": null,
   "id": "ed0c220f-6de1-4fe8-b34a-aaf8ccbd2e35",
   "metadata": {},
   "outputs": [],
   "source": [
    "# Filter data based on start_date and end_date\n",
    "start_date = '2010-01-01'\n",
    "end_date = '2022-04-07'\n",
    "date_range = pd.date_range(start=start_date, end=end_date, freq='D')\n",
    "\n",
    "btc = btc.reindex(gold.index).dropna()\n",
    "gold = gold.reindex(btc.index).dropna()\n",
    "inflation_data = inflation_data.reindex(btc.index).dropna()"
   ]
  },
  {
   "cell_type": "code",
   "execution_count": null,
   "id": "3f5177a2-c845-4fd6-80dd-f4afd40a0088",
   "metadata": {},
   "outputs": [],
   "source": [
    "# Calculate price and inflation rate\n",
    "btc_price = btc['Adj Close'].resample('MS').last()\n",
    "gold_price = gold['Adj Close'].resample('MS').last()\n",
    "inflation = pcepi['PCEPI']"
   ]
  },
  {
   "cell_type": "code",
   "execution_count": null,
   "id": "db57a518-d750-413b-8ef8-37eab718704d",
   "metadata": {},
   "outputs": [],
   "source": [
    "# # Merge data into a single data frame\n",
    "# data = pd.merge(btc_returns, gold_returns, left_index=True, right_index=True)\n",
    "# data = pd.merge(data, ff['RF'], left_index=True, right_index=True)\n",
    "# data = pd.merge(data, ff['Mkt-RF'], left_index=True, right_index=True)\n",
    "# data.columns = ['BTC', 'Gold', 'RF', 'RM']\n",
    "# data"
   ]
  },
  {
   "cell_type": "code",
   "execution_count": null,
   "id": "f8e3b7cd-84ec-4ed7-9bfc-a3b3730a51c8",
   "metadata": {},
   "outputs": [],
   "source": [
    "# # Calculate excess returns, volatility, and expected return\n",
    "# btc_excess_returns = btc_returns - inflation_data\n",
    "# gold_excess_returns = gold_returns - inflation_data\n",
    "\n",
    "# btc_volatility = btc_excess_returns.std() * np.sqrt(252)\n",
    "# gold_volatility = gold_excess_returns.std() * np.sqrt(252)\n",
    "\n",
    "# btc_expected_return = btc_excess_returns.mean() * 252 + inflation_data.mean() * 252\n",
    "# gold_expected_return = gold_excess_returns.mean() * 252 + inflation_data.mean() * 252\n",
    "\n",
    "btc_inflation_corr = btc_price.corr(inflation)\n",
    "gold_inflation_corr = gold_price.corr(inflation)"
   ]
  },
  {
   "cell_type": "code",
   "execution_count": null,
   "id": "7234d9e7-0a50-410f-9bc4-a0f9ca97a86f",
   "metadata": {},
   "outputs": [],
   "source": [
    "# # Print results\n",
    "# print('Bitcoin expected return: {:.2f}%'.format(btc_expected_return * 100))\n",
    "# print('Bitcoin volatility: {:.2f}%'.format(btc_volatility * 100))\n",
    "\n",
    "# print('Gold expected return: {:.2f}%'.format(gold_expected_return * 100))\n",
    "# print('Gold volatility: {:.2f}%'.format(gold_volatility * 100))\n",
    "\n",
    "print('Correlation between Bitcoin and Inflation: {:.7f}'.format(btc_inflation_corr))\n",
    "print('Correlation between Gold and Inflation: {:.7f}'.format(gold_inflation_corr))"
   ]
  },
  {
   "cell_type": "code",
   "execution_count": null,
   "id": "2af4e16c-c8b2-4f51-bda8-fec48175d0a7",
   "metadata": {},
   "outputs": [],
   "source": [
    "# Plot results\n",
    "plt.figure(figsize=(10, 6))\n",
    "plt.plot(btc_price.index, btc_price, label='Bitcoin')\n",
    "plt.plot(gold_price.index, gold_price, label='Gold')\n",
    "plt.plot(inflation.index, inflation, label='Inflation Rate')\n",
    "plt.xlabel('Date')\n",
    "plt.ylabel('Percentage')\n",
    "plt.legend()\n",
    "plt.title('Bitcoin and Gold Returns vs Inflation Rate')\n",
    "plt.show()"
   ]
  },
  {
   "cell_type": "code",
   "execution_count": null,
   "id": "117f1978-dc70-45f7-8f79-acfa33880c4f",
   "metadata": {},
   "outputs": [],
   "source": [
    "plt.figure(figsize=(10, 6))\n",
    "plt.plot(btc.index, btc['Adj Close'], label='Bitcoin')\n",
    "plt.plot(gold.index, gold['Adj Close'], label='Gold')\n",
    "plt.plot(inflation.index, inflation, label='Inflation')\n",
    "plt.xlabel('Date')\n",
    "plt.ylabel('Price Level or Percent Change')\n",
    "plt.legend()\n",
    "plt.title('Bitcoin, Gold, and Inflation over Time')\n",
    "plt.show()"
   ]
  },
  {
   "cell_type": "code",
   "execution_count": null,
   "id": "2ab14ce5-c57d-475f-867c-4d6f85ea0f6a",
   "metadata": {},
   "outputs": [],
   "source": [
    "plt.figure(figsize=(8, 6))\n",
    "bar_width = 0.35\n",
    "opacity = 0.8\n",
    "index = np.arange(2)\n",
    "plt.bar(index, [btc_expected_return, gold_expected_return], bar_width, alpha=opacity, color='b', label='Expected Return')\n",
    "plt.bar(index + bar_width, [btc_volatility, gold_volatility], bar_width, alpha=opacity, color='g', label='Volatility')\n",
    "plt.xlabel('Asset')\n",
    "plt.ylabel('Percentage')\n",
    "plt.xticks(index + bar_width/2, ('Bitcoin', 'Gold'))\n",
    "plt.legend()\n",
    "plt.title('Expected Return and Volatility')\n",
    "plt.show()"
   ]
  },
  {
   "cell_type": "code",
   "execution_count": null,
   "id": "540c11b9-aa17-4305-9a94-c15f683b65e5",
   "metadata": {},
   "outputs": [],
   "source": [
    "# Create a scatter plot of daily returns of Bitcoin and Gold against each other\n",
    "\n",
    "for i in range(len(data)):\n",
    "    if data['BTC'][i] > data['Gold'][i]:\n",
    "        plt.scatter(data['Gold'][i], data['BTC'][i], color='blue', alpha=0.5)\n",
    "    else:\n",
    "        plt.scatter(data['Gold'][i], data['BTC'][i], color='orange', alpha=0.5)\n",
    "plt.xlabel('Gold Returns')\n",
    "plt.ylabel('Bitcoin Returns')\n",
    "plt.title('Bitcoin Returns vs. Gold Returns')\n",
    "plt.show()"
   ]
  },
  {
   "cell_type": "code",
   "execution_count": null,
   "id": "05fd3985-2fed-4403-8d98-8eba6976596e",
   "metadata": {},
   "outputs": [],
   "source": [
    "# Create scatter plot for Bitcoin returns vs. inflation rate\n",
    "sns.scatterplot(\n",
    "    x=btc_returns, \n",
    "    y=inflation_data, \n",
    "    alpha=0.5, \n",
    "    label='Bitcoin Returns'\n",
    ")\n",
    "\n",
    "sns.lineplot(\n",
    "    x=btc_returns, \n",
    "    y=inflation_data, \n",
    "    label='Inflation Rate'\n",
    ")\n",
    "plt.xlabel('Date'); plt.ylabel('Percentage'); plt.title('Bitcoin Returns vs. Inflation Rate'); plt.legend();plt.show()\n",
    "\n",
    "# Create scatter plot for Gold returns vs. inflation rate\n",
    "sns.scatterplot(\n",
    "    x=gold_returns, \n",
    "    y=inflation_data, \n",
    "    alpha=0.5, \n",
    "    label='Gold Returns'\n",
    ")\n",
    "sns.lineplot(\n",
    "    x=gold_returns, \n",
    "    y=inflation_data, \n",
    "    label='Inflation Rate'\n",
    ")\n",
    "plt.xlabel('Date'); plt.ylabel('Percentage'); plt.title('Gold Returns vs. Inflation Rate'); plt.legend(); plt.show()"
   ]
  },
  {
   "cell_type": "markdown",
   "id": "68e3c26f-4353-4150-be7b-4cb2fd93e032",
   "metadata": {
    "tags": []
   },
   "source": [
    "Task 1 \n",
    "\n",
    "\n",
    "Based on the data above, the conclusion is that both Bitcoin and gold do not appear to effectively hedge against inflation risk.\n",
    "\n",
    "The expected return for Bitcoin is 79.11% and for gold it is 70.58%, indicating that both assets have shown positive returns historically. However, the correlation between Bitcoin and inflation is -0.01, and the correlation between gold and inflation is -0.04, which suggests a weak or negligible relationship between the two assets and inflation. But, correlation does not necessarily imply causation, and hedge against inflation risk is a complex concept that depends on various factors beyond just correlation. It is important to note that correlation alone does not provide conclusive evidence of hedging against inflation risk.\n",
    "\n",
    "Furthermore, the volatility (or risk) of Bitcoin is 64.99% and for gold it is 15.56%, indicating that Bitcoin is significantly more volatile compared to gold. The plot of Bitcoin and gold returns compared to the inflation rate also does not show a clear pattern of these assets effectively hedging against inflation risk, as their returns do not consistently move in opposite directions to inflation.\n",
    "\n",
    "Therefore, based on the data and analysis, it can be concluded that Bitcoin and gold may not be reliable hedges against inflation risk. Investors should consider other assets or strategies for effectively hedging against inflation.\n",
    "\n",
    "To better assess whether Bitcoin and gold hedge inflation risk, additional analysis and considerations are needed, such as examining the historical price trends, volatility, and performance during inflationary periods, as well as considering other factors such as market dynamics, economic conditions, and investment objectives. It may also be prudent to consult with a financial professional or conduct a comprehensive analysis using additional financial and economic data to make informed investment decisions."
   ]
  },
  {
   "cell_type": "markdown",
   "id": "232ce26f-01dc-4edb-b3cc-06007d15572d",
   "metadata": {
    "tags": []
   },
   "source": [
    "## Task 2: Do Bitcoin and gold hedge market risk?"
   ]
  },
  {
   "cell_type": "markdown",
   "id": "f88d7c77-33cf-4a19-9f1a-64e86d840c4a",
   "metadata": {},
   "source": [
    "Here are a few suggestions:\n",
    "\n",
    "1. Estimate capital asset pricing model (CAPM) regressions for Bitcoin and gold\n",
    "1. Use the daily factor data from Ken French"
   ]
  },
  {
   "cell_type": "code",
   "execution_count": null,
   "id": "08b25479-62bc-4588-93d7-0cfe93839787",
   "metadata": {},
   "outputs": [],
   "source": [
    "# Calculate returns and inflation rate\n",
    "btc_returns = btc['Adj Close'].pct_change().dropna()\n",
    "gold_returns = gold['Adj Close'].pct_change().dropna()"
   ]
  },
  {
   "cell_type": "code",
   "execution_count": null,
   "id": "ccb28d89-33e8-4bce-af98-fdc880d48383",
   "metadata": {},
   "outputs": [],
   "source": [
    "# Merge data into a single data frame\n",
    "data = pd.merge(btc_returns, gold_returns, left_index=True, right_index=True)\n",
    "data = pd.merge(data, ff['RF'], left_index=True, right_index=True)\n",
    "data = pd.merge(data, ff['Mkt-RF'], left_index=True, right_index=True)\n",
    "data.columns = ['BTC', 'Gold', 'RF', 'RP']"
   ]
  },
  {
   "cell_type": "code",
   "execution_count": null,
   "id": "9857d830-8945-41f7-b07e-553672d3a180",
   "metadata": {},
   "outputs": [],
   "source": [
    "ff_factors = ff[['Mkt-RF', 'RF']]"
   ]
  },
  {
   "cell_type": "code",
   "execution_count": null,
   "id": "57437b4a-349f-4bab-94ff-78ef58bd663d",
   "metadata": {},
   "outputs": [],
   "source": [
    "# Define the formula for the regression\n",
    "formula = 'BTC - R ~ RP - RF'\n",
    "formula_1 = 'Gold - RF ~ RP - RF'"
   ]
  },
  {
   "cell_type": "code",
   "execution_count": null,
   "id": "d09c0d56-f24a-458e-bf64-e75264516bd7",
   "metadata": {},
   "outputs": [],
   "source": [
    "# Estimate beta coefficients for Bitcoin using OLS & print regression results for Bitcoin\n",
    "btc_model = smf.ols(formula=formula, data=data).fit()\n",
    "beta_btc = btc_model.params['RP']\n",
    "btc_model.summary()"
   ]
  },
  {
   "cell_type": "code",
   "execution_count": null,
   "id": "126e769c-2ab2-4cc3-a82d-d32e69336586",
   "metadata": {},
   "outputs": [],
   "source": [
    "# Estimate beta coefficients for Gold using OLS & print regression results for Gold\n",
    "gold_model = smf.ols(formula=formula_1, data=data).fit()\n",
    "beta_gold = gold_model.params['RP']\n",
    "gold_model.summary()"
   ]
  },
  {
   "cell_type": "code",
   "execution_count": null,
   "id": "55b8b727-1616-429d-9af2-7d653f3b772b",
   "metadata": {},
   "outputs": [],
   "source": [
    "rf = ff_factors['RF'].mean()\n",
    "market_return = ff_factors['Mkt-RF'].mean()\n",
    "\n",
    "# Estimate expected return for Bitcoin using CAPM equation\n",
    "expected_return_btc = rf + beta_btc * (market_return - rf)\n",
    "print('Expected return for Bitcoin: {:.7%}'.format(expected_return_btc))\n",
    "\n",
    "# Estimate expected return for gold using CAPM equation\n",
    "expected_return_gold = rf + beta_gold * (market_return - rf)\n",
    "print('Expected return for Gold: {:.7%}'.format(expected_return_gold))"
   ]
  },
  {
   "cell_type": "code",
   "execution_count": null,
   "id": "7db0a081-3170-4763-8564-c518c0d8cd19",
   "metadata": {},
   "outputs": [],
   "source": [
    "# Create a scatter plot of BTC returns vs. market returns\n",
    "plt.scatter(data['RM'], data['BTC'])\n",
    "plt.xlabel('Market Returns')\n",
    "plt.ylabel('Bitcoin Returns')\n",
    "plt.title('Scatter Plot of Bitcoin Returns vs. Market Returns')"
   ]
  },
  {
   "cell_type": "code",
   "execution_count": null,
   "id": "3561cc64-53dc-4c0b-b178-150d4ace1dc7",
   "metadata": {},
   "outputs": [],
   "source": [
    "# Create a scatter plot of gold returns vs. market returns\n",
    "plt.scatter(data['RM'], data['Gold'])\n",
    "plt.xlabel('Market Returns')\n",
    "plt.ylabel('Gold Returns')\n",
    "plt.title('Scatter Plot of Gold Returns vs. Market Returns')\n",
    "plt.show()"
   ]
  },
  {
   "cell_type": "code",
   "execution_count": null,
   "id": "3a401701-8d27-4198-b6d7-674e0fa89c20",
   "metadata": {},
   "outputs": [],
   "source": [
    "# Create a regression plot of BTC returns vs. market returns\n",
    "sns.regplot(x='RM', y='BTC', data=data)\n",
    "plt.xlabel('Market Returns')\n",
    "plt.ylabel('Bitcoin Returns')\n",
    "plt.title('Regression Plot of Bitcoin Returns vs. Market Returns')\n",
    "plt.show()"
   ]
  },
  {
   "cell_type": "code",
   "execution_count": null,
   "id": "4d1d4394-d85b-4546-98b2-01e212c101ae",
   "metadata": {},
   "outputs": [],
   "source": [
    "# Create a regression plot of gold returns vs. market returns\n",
    "sns.regplot(x='RM', y='Gold', data=data)\n",
    "plt.xlabel('Market Returns')\n",
    "plt.ylabel('Gold Returns')\n",
    "plt.title('Regression Plot of Gold Returns vs. Market Returns')\n",
    "plt.show()"
   ]
  },
  {
   "cell_type": "code",
   "execution_count": null,
   "id": "3587835b-4b96-4e60-a584-f7d2b0ec7647",
   "metadata": {},
   "outputs": [],
   "source": [
    "# Create a bar plot of expected returns for Bitcoin and gold\n",
    "labels = ['Bitcoin', 'Gold']\n",
    "values = [expected_return_btc, expected_return_gold]\n",
    "plt.bar(labels, values)\n",
    "plt.ylabel('Expected Return')\n",
    "plt.title('Expected Returns for Bitcoin and Gold')\n",
    "plt.show()"
   ]
  },
  {
   "cell_type": "code",
   "execution_count": null,
   "id": "87992159-8eda-43b1-9f2c-3dc4c7bdd53a",
   "metadata": {},
   "outputs": [],
   "source": [
    "# Create a scatter plot of daily returns of Bitcoin and gold against the market return\n",
    "plt.scatter(data['RM'], data['BTC'], label='Bitcoin')\n",
    "plt.scatter(data['RM'], data['Gold'], label='Gold')\n",
    "plt.xlabel('Market Return')\n",
    "plt.ylabel('Daily Return')\n",
    "plt.legend()\n",
    "plt.show()"
   ]
  },
  {
   "cell_type": "markdown",
   "id": "95f17022-6dc6-4749-9707-ea21bd86a5a8",
   "metadata": {},
   "source": [
    "Task 2\n",
    "\n",
    "The possibility of financial losses brought on by the turbulence of the financial markets is referred to as market risk. This risk pertains to the possibility that an investor's portfolio value would decrease as a result of alterations in market circumstances, such as changes in stock prices, interest rates, exchange rates, and commodity prices.\n",
    "\n",
    "Bitcoin and gold can both be used as a hedge against market risk, but they both have unique features and behavior patterns that depend on the market environment. Overall, both Bitcoin and gold can be used as hedging tools against market risk, but prior to making an investment decision, traders should think about their personal investing goals, risk appetite, and time horizon. It's also critical to keep in mind that neither asset is ensured to offer defense against all kinds of market hazards, and investors need diversify their portfolios to successfully manage risk.\n",
    "\n",
    "Based on the above code and outputs, the beta coefficient for Bitcoin in the CAPM regression is 0.0095, indicating that Bitcoin's returns are positively correlated with the market, but at a lower magnitude than the market as a whole. This suggests that Bitcoin can provide some degree of diversification and act as a hedge against market risk.\n",
    "\n",
    "The beta coefficient for gold in the CAPM regression is 0.0007, indicating a weaker positive correlation between gold's returns and the market compared to Bitcoin. However, it still suggests that gold can provide some degree of diversification and act as a hedge against market risk.\n",
    "\n",
    "Furthermore, the expected return estimates for both Bitcoin and gold using the CAPM equation are positive, which suggests that they are expected to generate returns above the risk-free rate, providing some potential upside while also acting as a hedge against market risk.\n",
    "\n",
    "In conclusion, the above analysis suggests that both Bitcoin and gold can act as hedges against market risk, with Bitcoin offering a slightly stronger correlation with the market than gold. However, it is important to note that this analysis is based on historical data and the future behavior of these assets may differ from the past. Additionally, there may be other factors that influence the behavior of these assets, such as regulatory changes, technological advancements, and investor sentiment, which could impact their effectiveness as hedges against market risk."
   ]
  },
  {
   "cell_type": "markdown",
   "id": "cceb8f97-d3fc-45cf-96a5-cb64278d757c",
   "metadata": {
    "tags": []
   },
   "source": [
    "## Task 3: Plot the mean-variance efficient frontier of Standard & Poor's 100 Index (SP100) stocks, with and without Bitcoin and gold"
   ]
  },
  {
   "cell_type": "markdown",
   "id": "635e7f87-e382-4eaa-aab4-8a2aad186870",
   "metadata": {},
   "source": [
    "Here are a few suggestions:\n",
    "\n",
    "1. You can learn about the SP100 stocks [here](https://en.wikipedia.org/wiki/S%26P_100)\n",
    "1. Only consider days with complete data for Bitcoin and gold\n",
    "1. Drop any stocks with shorter return histories than Bitcoin and gold\n",
    "1. Assume long-only portfolios"
   ]
  },
  {
   "cell_type": "code",
   "execution_count": null,
   "id": "ad1f6f30-980b-4a5b-860d-9019f4bdebc8",
   "metadata": {},
   "outputs": [],
   "source": [
    "returns_2 = SP100['Adj Close'].pct_change().loc['2004':'2022']"
   ]
  },
  {
   "cell_type": "code",
   "execution_count": null,
   "id": "0b08d77e-0f99-4560-91e5-09351bcc76cb",
   "metadata": {},
   "outputs": [],
   "source": [
    "# Renaming the columns of BTC & Gold \n",
    "series = pd.Series(data=btc_returns, name='BTC')\n",
    "series1 = pd.Series(data= gold_returns, name='GOLD')\n",
    "\n",
    "# Joining SP100, Bitcoin & Gold \n",
    "merge_df = pd.concat([returns_2, series, series1], axis=1)\n",
    "\n",
    "# Drop any columns with fewer non-NA values than BTC or GOLD\n",
    "min_non_na = merge_df[['BTC', 'GOLD']].count().min()\n",
    "returns_df = merge_df.dropna(thresh=min_non_na, axis='columns')\n",
    "\n",
    "# Only consider days with complete data for Bitcoin and gold\n",
    "returns_df = returns_df.dropna()\n",
    "\n",
    "# Drop the columns for Bitcoin and Gold\n",
    "returns_df1 = returns_df.drop(['BTC', 'GOLD'], axis=1)"
   ]
  },
  {
   "cell_type": "markdown",
   "id": "3c57b4dd-63ce-4fb7-83b7-4a7b2c5fb509",
   "metadata": {},
   "source": [
    "## Mean-variance efficient frontier of Standard & Poor's 100 Index (SP100) stocks without Bitcoin and gold"
   ]
  },
  {
   "cell_type": "code",
   "execution_count": null,
   "id": "729c73bc-bc40-4d36-94a3-7193744df72a",
   "metadata": {},
   "outputs": [],
   "source": [
    "tret = 252 * np.linspace(returns_df1.mean().min(), returns_df1.mean().max(), 25)\n",
    "tret"
   ]
  },
  {
   "cell_type": "code",
   "execution_count": null,
   "id": "b006bf19-740d-48b0-9822-d1595347445d",
   "metadata": {},
   "outputs": [],
   "source": [
    "res_ef = []\n",
    "\n",
    "for t in tret:\n",
    "    _ = sco.minimize(\n",
    "        fun=port_vol, # minimize portfolio volatility\n",
    "        x0=np.ones(returns_df1.shape[1]) / returns_df1.shape[1], # initial portfolio weights\n",
    "        args=(returns_df1, 252), # additional arguments to fun, in order\n",
    "        bounds=[(0, 1) for c in returns_df1.columns], # bounds limit the search space for each portfolio weight\n",
    "        constraints=(\n",
    "            {'type': 'eq', 'fun': lambda x: x.sum() - 1}, # constrain sum of weights to one\n",
    "            {'type': 'eq', 'fun': lambda x: port_mean(x=x, r=returns_df1, ppy=252) - t} # constrains portfolio mean return to the target return\n",
    "\n",
    "        )\n",
    "    )\n",
    "    res_ef.append(_)"
   ]
  },
  {
   "cell_type": "code",
   "execution_count": null,
   "id": "d5f25d92-8472-46d4-ae17-6e7162a7deb0",
   "metadata": {},
   "outputs": [],
   "source": [
    "for r in res_ef:\n",
    "    assert r['success'] "
   ]
  },
  {
   "cell_type": "code",
   "execution_count": null,
   "id": "018df2d8-5789-4282-8a2c-a185cfdde5fb",
   "metadata": {},
   "outputs": [],
   "source": [
    "ef = pd.DataFrame(\n",
    "    {\n",
    "        'tret': tret,\n",
    "        'tvol': np.array([r['fun'] if r['success'] else np.nan for r in res_ef])\n",
    "    }\n",
    ")\n",
    "\n",
    "ef.head()"
   ]
  },
  {
   "cell_type": "code",
   "execution_count": null,
   "id": "d9768782-a58f-4aff-a0da-f272e25b9233",
   "metadata": {},
   "outputs": [],
   "source": [
    "ef.mul(100).plot(x='tvol', y='tret', legend=False)\n",
    "plt.ylabel('Annualized Mean Return (%)')\n",
    "plt.xlabel('Annualized Volatility (%)')\n",
    "plt.title(\n",
    "    f'Efficient Frontier'  +\n",
    "    f'\\nfrom {returns_df1.index[0]:%B %d, %Y} to {returns_df1.index[-1]:%B %d, %Y}'\n",
    ")\n",
    "\n",
    "for t, x, y in zip(\n",
    "    returns_df1.columns, \n",
    "    returns_df1.std().mul(100*np.sqrt(252)),\n",
    "    returns_df1.mean().mul(100*252)\n",
    "):\n",
    "    plt.annotate(text=t, xy=(x, y))\n",
    "    \n",
    "plt.show()"
   ]
  },
  {
   "cell_type": "markdown",
   "id": "a044ff17-8ab7-4ffc-886a-ba9e9897565e",
   "metadata": {},
   "source": [
    "## Mean-variance efficient frontier of Standard & Poor's 100 Index (SP100) stocks with Bitcoin and gold"
   ]
  },
  {
   "cell_type": "code",
   "execution_count": null,
   "id": "ca33c68c-710f-40a6-98da-d6d0c8fc14a2",
   "metadata": {},
   "outputs": [],
   "source": [
    "tret1 = 252 * np.linspace(returns_df.mean().min(), returns_df.mean().max(), 25)\n",
    "tret1"
   ]
  },
  {
   "cell_type": "code",
   "execution_count": null,
   "id": "c854888a-7a98-4589-9407-39faeba78a56",
   "metadata": {},
   "outputs": [],
   "source": [
    "res_ef1 = []\n",
    "\n",
    "for t in tret1:\n",
    "    _ = sco.minimize(\n",
    "        fun=port_vol, # minimize portfolio volatility\n",
    "        x0=np.ones(returns_df.shape[1]) / returns_df.shape[1], # initial portfolio weights\n",
    "        args=(returns_df, 252), # additional arguments to fun, in order\n",
    "        bounds=[(0, 1) for c in returns_df.columns], # bounds limit the search space for each portfolio weight\n",
    "        constraints=(\n",
    "            {'type': 'eq', 'fun': lambda x: x.sum() - 1}, # constrain sum of weights to one\n",
    "            {'type': 'eq', 'fun': lambda x: port_mean(x=x, r=returns_df, ppy=252) - t} # constrains portfolio mean return to the target return\n",
    "\n",
    "        )\n",
    "    )\n",
    "    res_ef1.append(_)"
   ]
  },
  {
   "cell_type": "code",
   "execution_count": null,
   "id": "80cdca65-78dc-43d7-9de8-feca5cb78f0b",
   "metadata": {},
   "outputs": [],
   "source": [
    "for r in res_ef1:\n",
    "    assert r['success']"
   ]
  },
  {
   "cell_type": "code",
   "execution_count": null,
   "id": "c63788c4-1e8c-4bc4-b273-213ce7740586",
   "metadata": {},
   "outputs": [],
   "source": [
    "ef = pd.DataFrame(\n",
    "    {\n",
    "        'tret1': tret1,\n",
    "        'tvol1': np.array([r['fun'] if r['success'] else np.nan for r in res_ef1])\n",
    "    }\n",
    ")\n",
    "\n",
    "ef.head()"
   ]
  },
  {
   "cell_type": "code",
   "execution_count": null,
   "id": "517da094-7f06-4e6d-ac0c-2448ef4fcfb0",
   "metadata": {},
   "outputs": [],
   "source": [
    "ef.mul(100).plot(x='tvol1', y='tret1', legend=False)\n",
    "plt.ylabel('Annualized Mean Return (%)')\n",
    "plt.xlabel('Annualized Volatility (%)')\n",
    "plt.title(\n",
    "    f'Efficient Frontier'  +\n",
    "    f'\\nfrom {returns_df.index[0]:%B %d, %Y} to {returns_df.index[-1]:%B %d, %Y}'\n",
    ")\n",
    "\n",
    "for t, x, y in zip(\n",
    "    returns_df.columns, \n",
    "    returns_df.std().mul(100*np.sqrt(252)),\n",
    "    returns_df.mean().mul(100*252)\n",
    "):\n",
    "    plt.annotate(text=t, xy=(x, y))\n",
    "    \n",
    "plt.show()"
   ]
  },
  {
   "cell_type": "markdown",
   "id": "559e65d2-6ada-4238-8bdc-2f658c77dac8",
   "metadata": {
    "tags": []
   },
   "source": [
    "## Task 4: Find the maximum Sharpe Ratio portfolio of SP100 stocks, with and without Bitcoin and gold"
   ]
  },
  {
   "cell_type": "markdown",
   "id": "578e5db4-1128-4cde-9f00-d28c7c294dcb",
   "metadata": {},
   "source": [
    "Follow the data requirements of task 3."
   ]
  },
  {
   "cell_type": "code",
   "execution_count": null,
   "id": "28b91777-5022-47f0-8f4d-db5fc6b5a0ed",
   "metadata": {},
   "outputs": [],
   "source": [
    "def port_sharpe(x, r, ppy, tgt):\n",
    "    \"\"\"\n",
    "    x: portfolio weights\n",
    "    r: data frame of returns\n",
    "    ppy: periods per year for annualization\n",
    "    tgt: target or benchmark\n",
    "    \"\"\"\n",
    "    rp = r.dot(x) # portfolio return\n",
    "    er = rp.sub(tgt).dropna() # portfolio excess return\n",
    "    return np.sqrt(ppy) * er.mean() / er.std() # portfolio Sharpe Ratio"
   ]
  },
  {
   "cell_type": "code",
   "execution_count": null,
   "id": "349844ec-9685-4ea2-9db6-ed86cac7cf4b",
   "metadata": {},
   "outputs": [],
   "source": [
    "def port_sharpe_neg(x, r, ppy, tgt):\n",
    "    return -1 * port_sharpe(x, r, ppy, tgt)"
   ]
  },
  {
   "cell_type": "markdown",
   "id": "6fec6090-8243-4c9c-ad2d-679baf13efc5",
   "metadata": {},
   "source": [
    "## Maximum Sharpe Ratio portfolio of SP100 stocks without Bitcoin and gold"
   ]
  },
  {
   "cell_type": "code",
   "execution_count": null,
   "id": "de5b4a20-9ff9-4fdf-a95d-0f3d6acbd9cc",
   "metadata": {},
   "outputs": [],
   "source": [
    "res_sharpe = sco.minimize(\n",
    "    fun=port_sharpe_neg,\n",
    "    x0=np.ones(returns_df1.shape[1]) / returns_df1.shape[1],\n",
    "    args=(returns_df1, 252, 0),\n",
    "    bounds=[(0,1) for _ in range(returns_df1.shape[1])],\n",
    "    constraints=(\n",
    "        {'type': 'eq', 'fun': lambda x: x.sum() - 1}\n",
    "    )\n",
    ")"
   ]
  },
  {
   "cell_type": "code",
   "execution_count": null,
   "id": "3d92a4b6-8c9c-44af-aa0c-7aaa7cc2fa4f",
   "metadata": {},
   "outputs": [],
   "source": [
    "port_sharpe(x=res_sharpe['x'], r=returns_df1, ppy=252, tgt=0)"
   ]
  },
  {
   "cell_type": "code",
   "execution_count": null,
   "id": "4a5f9f82-f5c1-4847-863c-70bdbf0769b1",
   "metadata": {},
   "outputs": [],
   "source": [
    "(res_sharpe['x'] > 0.00001).sum()"
   ]
  },
  {
   "cell_type": "code",
   "execution_count": null,
   "id": "72bb982a-7230-4a79-85a5-845d173dda9c",
   "metadata": {},
   "outputs": [],
   "source": [
    "weights = pd.Series(data=res_sharpe['x'], index=returns_df1.columns)\n",
    "weights.nlargest(15).plot(kind='barh')"
   ]
  },
  {
   "cell_type": "markdown",
   "id": "795012f9-9517-4b1c-8df7-4415c3ef36d3",
   "metadata": {
    "tags": []
   },
   "source": [
    "## Maximum Sharpe Ratio portfolio of SP100 stocks with Bitcoin and gold"
   ]
  },
  {
   "cell_type": "code",
   "execution_count": null,
   "id": "04a37969-d9ce-429f-b088-2bfd7d6f218a",
   "metadata": {},
   "outputs": [],
   "source": [
    "res_sharpe_1 = sco.minimize(\n",
    "    fun=port_sharpe_neg,\n",
    "    x0=np.ones(returns_df.shape[1]) / returns_df.shape[1],\n",
    "    args=(returns_df, 252, 0),\n",
    "    bounds=[(0,1) for _ in range(returns_df.shape[1])],\n",
    "    constraints=(\n",
    "        {'type': 'eq', 'fun': lambda x: x.sum() - 1}\n",
    "    )\n",
    ")\n",
    "\n",
    "res_sharpe_1\n"
   ]
  },
  {
   "cell_type": "code",
   "execution_count": null,
   "id": "edb5c350-61f2-4174-a7c2-940e83bc2aea",
   "metadata": {},
   "outputs": [],
   "source": [
    "port_sharpe(x=res_sharpe_1['x'], r=returns_df, ppy=252, tgt=0)"
   ]
  },
  {
   "cell_type": "code",
   "execution_count": null,
   "id": "c18ed30a-eddf-4ca1-9414-4aac5a40743d",
   "metadata": {},
   "outputs": [],
   "source": [
    "(res_sharpe_1['x'] > 0.00001).sum()"
   ]
  },
  {
   "cell_type": "code",
   "execution_count": null,
   "id": "b6e308e4-b628-49bd-9ac9-e266dca4c307",
   "metadata": {},
   "outputs": [],
   "source": [
    "weights = pd.Series(data=res_sharpe_1['x'], index=returns_df.columns)\n",
    "weights.nlargest(15).plot(kind='barh')"
   ]
  },
  {
   "cell_type": "code",
   "execution_count": null,
   "id": "06df2bb2-20b0-42c6-9197-e062d93aa7d1",
   "metadata": {},
   "outputs": [],
   "source": [
    "# (\n",
    "#     pd.DataFrame(\n",
    "#         data={\n",
    "#             'L1':res_sharpe['x'], \n",
    "#             'L2':res_sharpe_1['x']\n",
    "#         },\n",
    "#         index=returns_2.columns\n",
    "#     )\n",
    "#     .rename_axis('Portfolio Weight')\n",
    "#     .plot(kind='barh')\n",
    "# )\n",
    "# plt.title('Comparison Max. Sharpe Ratio Portfolio Weights')\n",
    "# plt.show()"
   ]
  },
  {
   "cell_type": "markdown",
   "id": "09a54ac3-75d3-4e1c-ab1d-3fa9c2f0e48b",
   "metadata": {
    "tags": []
   },
   "source": [
    "## Task 5: Every full calendar year, compare the $\\frac{1}{n}$ portfolio with the out-of-sample performance of the previous maximum Sharpe Ratio portfolio"
   ]
  },
  {
   "cell_type": "markdown",
   "id": "e7e35631-0221-4e31-8991-47b5c9cb3120",
   "metadata": {},
   "source": [
    "Follow the data requirements of task 3.\n",
    "Estimate the previous maximum Sharpe Ratio portfolio using data from the previous two years.\n",
    "Consider, at least, the Sharpe Ratios of each portfolio, but other performance measures may help you tell a more complete story."
   ]
  },
  {
   "cell_type": "code",
   "execution_count": null,
   "id": "e9e2dc6b-feb9-4024-b17f-3c218d737f9d",
   "metadata": {},
   "outputs": [],
   "source": [
    "# start_date = '2010-01-01'\n",
    "# end_date = '2023-04-17'\n",
    "# pcepi = pdr.DataReader('PCEPI', 'fred', start_date, end_date)\n",
    "# btc = yf.download('BTC-USD', start=start_date, end=end_date)\n",
    "# gld = yf.download('GLD', start=start_date, end=end_date)\n",
    "# inflation = (pcepi.iloc[-1]['PCEPI'] / pcepi.iloc[0]['PCEPI'] - 1) * 100\n",
    "# btc_real_returns = (btc['Adj Close'] / btc['Adj Close'].shift(1)) / (1 + inflation / 100) - 1\n",
    "# gld_real_returns = (gld['Adj Close'] / gld['Adj Close'].shift(1)) / (1 + inflation / 100) - 1\n",
    "# df = pd.concat([btc_real_returns, gld_real_returns], axis=1)\n",
    "# df.columns = ['BTC_Returns', 'GLD_Returns']\n",
    "# df['Inflation'] = inflation\n",
    "# df = df.dropna()"
   ]
  },
  {
   "cell_type": "code",
   "execution_count": null,
   "id": "1b9fde46-5260-453c-9515-c063b77bed60",
   "metadata": {},
   "outputs": [],
   "source": [
    "# X = sm.add_constant(df['Inflation'])\n",
    "# results_btc = sm.OLS(df['BTC_Returns'], X).fit()\n",
    "# results_gld = sm.OLS(df['GLD_Returns'], X).fit()\n",
    "# print(\"Bitcoin Regression Results:\")\n",
    "# print(results_btc.summary())\n",
    "# print(\"Gold Regression Results:\")\n",
    "# print(results_gld.summary())\n",
    "\n",
    "# # Fetch S&P 100 stock data using pandas-datareader\n",
    "# sp100_stocks = pdr.data.get_data_yahoo(tickers='^OEX')['Adj Close'].to_frame()\n",
    "\n",
    "# # Fetch Bitcoin and gold data using pandas-datareader\n",
    "# bitcoin = pdr.data.get_data_yahoo(tickers='BTC-USD')['Adj Close']\n",
    "# gold = pdr.data.get_data_yahoo(tickers='GC=F')['Adj Close']\n",
    "\n",
    "# # Drop stocks with shorter return histories than Bitcoin and gold\n",
    "# returns = sp100_stocks.pct_change().dropna()\n",
    "# returns = returns.join(bitcoin.pct_change().rename('BTC-USD'))\n",
    "# returns = returns.join(gold.pct_change().rename('GC=F'))\n",
    "# valid_returns = returns.dropna(subset=['BTC-USD', 'GC=F'])"
   ]
  },
  {
   "cell_type": "code",
   "execution_count": null,
   "id": "0b9008e6-a944-440c-8c89-b01b3807e238",
   "metadata": {},
   "outputs": [],
   "source": [
    "# Define a function to find the maximum Sharpe Ratio portfolio\n",
    "def max_sharpe_ratio_portfolio(returns_df1):\n",
    "    # Calculate mean returns and covariance matrix\n",
    "    mean_returns = returns_df1.mean()\n",
    "    cov_matrix = returns_df1.cov()\n",
    "\n",
    "    # Number of assets\n",
    "    num_assets = len(mean_returns)\n",
    "\n",
    "    # Generate random weights for portfolio simulation\n",
    "    np.random.seed(42)\n",
    "    num_portfolios = 100\n",
    "    weights = np.random.random((num_portfolios, num_assets))\n",
    "    weights /= np.sum(weights, axis=1).reshape((-1, 1))\n",
    "\n",
    "    portfolio_risks = np.sqrt(np.diag(np.dot(weights, np.dot(cov_matrix, weights.T))))\n",
    "\n",
    "    # Calculate portfolio returns, risks, and sharp ratios\n",
    "    portfolio_returns = np.dot(weights, mean_returns)\n",
    "    sharp_ratios = portfolio_returns / portfolio_risks\n",
    "\n",
    "    # Find the portfolio with the highest sharp ratio\n",
    "    optimal_portfolio_index = np.argmax(sharp_ratios)\n",
    "    optimal_weights = weights[optimal_portfolio_index]\n",
    "\n",
    "    return optimal_weights, mean_returns, cov_matrix"
   ]
  },
  {
   "cell_type": "code",
   "execution_count": null,
   "id": "4579795a-e402-4e5a-8868-bb5b5784154e",
   "metadata": {},
   "outputs": [],
   "source": [
    "# Calculate maximum Sharpe Ratio portfolio for the first two years\n",
    "start_date = '2017-01-01'\n",
    "end_date = '2018-12-31'\n",
    "two_year_returns = returns_df1[start_date:end_date]\n",
    "optimal_weights, mean_returns, cov_matrix = max_sharpe_ratio_portfolio(two_year_returns)"
   ]
  },
  {
   "cell_type": "code",
   "execution_count": null,
   "id": "31eeefa8-58bd-4b28-a184-fdba13dd73d6",
   "metadata": {},
   "outputs": [],
   "source": [
    "# Calculate 1/n portfolio for the first year\n",
    "start_date = '2019-01-01'\n",
    "end_date = '2019-12-31'\n",
    "one_year_returns = returns_df1[start_date:end_date]\n",
    "num_assets = len(one_year_returns.columns)\n",
    "weights = np.ones(num_assets) / num_assets\n",
    "portfolio_returns = np.dot(one_year_returns, weights)\n",
    "portfolio_risk = np.sqrt(np.dot(weights.T, np.dot(cov_matrix, weights)))\n",
    "portfolio_sharpe_ratio = portfolio_returns / portfolio_risk"
   ]
  },
  {
   "cell_type": "code",
   "execution_count": null,
   "id": "18d1b3e9-3580-462f-95cb-8d1e55fd081e",
   "metadata": {},
   "outputs": [],
   "source": [
    "# # Compare 1/n portfolio with maximum Sharpe Ratio portfolio for every subsequent year\n",
    "# for year in range(2020, 2023):\n",
    "#     start_date = f'{year}-01-01'\n",
    "#     end_date = f'{year}-12-31'\n",
    "#     one_year_returns = returns_df1[start_date:end_date]\n",
    "    \n",
    "#     # Calculate out-of-sample performance of maximum Sharpe Ratio portfolio\n",
    "#     portfolio_returns = np.dot(one_year_returns, optimal_weights)\n",
    "#     portfolio_risk = np.sqrt(np.dot(optimal_weights.T, np.dot(cov_matrix, optimal_weights)))\n",
    "#     portfolio_sharpe_ratio = portfolio_returns / portfolio_risk\n",
    "    \n",
    "#     # Calculate 1/n portfolio for the year\n",
    "#     num_assets = len(one_year_returns.columns)\n",
    "#     weights = np.ones(num_assets) / num_assets\n",
    "#     one_n_portfolio_returns = np.dot(one_year_returns, weights)\n",
    "#     one_n_portfolio_risk = np.sqrt(np.dot(weights.T, np.dot(cov_matrix, weights)))\n",
    "#     one_n_portfolio_sharpe_ratio = one_n_portfolio_returns / one_n_portfolio_risk\n",
    "    \n",
    "#     # Print results for each year\n",
    "#     print(f'Year: {year}')\n",
    "#     rounded_pr = np.around(portfolio_returns, 3)\n",
    "#     rounded_risk = np.around(portfolio_risk, 3)\n",
    "#     rounded_sharpe = np.around(portfolio_sharpe_ratio, 3)\n",
    "#     o_n_pr = np.around(one_n_portfolio_returns, 3)\n",
    "#     o_n_prisk = np.around(one_n_portfolio_risk, 3)\n",
    "#     o_n_psr = np.around(one_n_portfolio_sharpe_ratio,3)\n",
    "#     print(f'Maximum Sharpe Ratio Portfolio:\\nReturns: {rounded_pr}, Risk: {rounded_risk}, Sharpe Ratio: {rounded_sharpe}\\nWeights: {optimal_weights}\\n')\n",
    "#     print(f'1/n Portfolio:\\nReturns: {o_n_pr}, Risk: {o_n_prisk}, Sharpe Ratio: {o_n_psr}\\nWeights: {weights}\\n')"
   ]
  },
  {
   "cell_type": "markdown",
   "id": "bd70416e-1f83-40d0-82c4-c9e2691a961f",
   "metadata": {},
   "source": [
    "## Task 6: What do you conclude about Bitcoin and gold as inflation and market risk hedges?"
   ]
  },
  {
   "cell_type": "markdown",
   "id": "34871064-ee3a-43dc-8f74-f121b4d3ec3b",
   "metadata": {},
   "source": [
    "What are your overall conclusions and limitations of your analysis?\n",
    "What do the data suggest about the article that motivated this project?\n",
    "Please see the link at the top of this notebook."
   ]
  },
  {
   "cell_type": "markdown",
   "id": "d66dede4-057b-45cb-b6f7-27300ebb38d4",
   "metadata": {},
   "source": [
    "Similar to gold, Bitcoin isn't tied to a particular currency or economy. It also isn't controlled by a small group of companies or stakeholders. Rather, it is an international asset class that reflects global demand. In times of high U.S. inflation, investors must take on more risk to offset the decline in existing asset values. For example, a 3% dividend yield may normally supplement income in retirement. But if inflation is 6%, it simply isn't good enough. Bitcoin could be one of the better options outside of equities because it sidesteps many of the political and economic risks associated with the U.S. stock market. In this vein, Bitcoin and other cryptocurrencies are one of the most practical and simple ways for an American to diversify away from purely American revenue, income, and assets.\n",
    "\n",
    "Lessons about gold’s track record as an investing hedge may be learned by looking back at the 1970s, when the U.S. experienced its last bout of high inflation.Oil price shocks and energy shortages drove average annual U.S. inflation up to around 8.8% from 1973 to 1979. During those six years, gold won over many investors as a top inflation hedge, since the yellow metal generated an impressive 35% annual return.\n",
    "Therefore, based on the data and analysis, it can be concluded that Bitcoin and gold may be reliable hedges against inflation risk. Investors should consider other assets or strategies for effectively hedging against inflation.\n",
    "\n",
    "To better assess whether Bitcoin and gold hedge inflation risk, additional analysis and considerations are needed, such as examining the historical price trends, volatility, and performance during inflationary periods, as well as considering other factors such as market dynamics, economic conditions, and investment objectives. It may also be prudent to consult with a financial professional or conduct a comprehensive analysis using additional financial and economic data to make informed investment decisions.\n",
    "\n",
    "Data Limitations: The analysis is based on historical data for Bitcoin, gold, and inflation, and may not necessarily reflect future performance. Additionally, the data used for analysis is limited to specific time periods, which may not capture all market conditions or events that could impact the results.\n",
    "Market Volatility: Bitcoin and gold prices can be highly volatile, and their performance may be influenced by a wide range of factors including regulatory changes, market sentiment, technological developments, and macroeconomic conditions. These factors may not be fully captured in the analysis, and can impact the conclusions drawn.\n",
    "Other Factors: The analysis does not consider other potential factors that could impact the hedging effectiveness of Bitcoin and gold, such as transaction costs, liquidity, and trading restrictions, among others.\n",
    "\n",
    "Data quality and reliability: The accuracy and reliability of the daily factor data from Ken French, as well as the availability and quality of data for Bitcoin and gold, could impact the accuracy and robustness of the CAPM regressions. Data errors, missing data, or inconsistencies in data sources could introduce biases or errors in the results.\n",
    "\n",
    "Assumptions of CAPM: The CAPM model assumes that the relationship between expected returns and market risk is linear and that all relevant risk factors are captured by the market factor. However, this may not hold true for Bitcoin and gold, as they are unique assets with different risk characteristics compared to traditional financial assets, and their expected returns may not be solely determined by market risk. This could affect the validity of the CAPM regression results and their implications.\n",
    "\n",
    "Limitations of regression analysis: Regression analysis has its own limitations, such as the potential for spurious correlations, omitted variable bias, and multicollinearity. These limitations could impact the accuracy and robustness of the CAPM regression results for Bitcoin and gold.\n",
    "Market dynamics: Bitcoin and gold markets are known for their high volatility and unique market dynamics. The CAPM model may not fully capture these dynamics, which could affect the accuracy and reliability of the regression results. Factors such as liquidity, trading volumes, and market sentiment may impact the risk and return profiles of Bitcoin and gold, but may not be fully captured by the CAPM model.\n",
    "\n",
    "Assumptions of mean-variance optimization: Mean-variance optimization assumes that asset returns follow a normal distribution and that investors are risk-averse and make decisions solely based on expected returns and risks. These assumptions may not always hold in reality, and the results of mean-variance optimization may not accurately reflect the actual risk and return characteristics of the portfolio.\n",
    "\n",
    "Long-only portfolio assumption: Assuming long-only portfolios may not reflect real-world investment strategies, as investors may employ short positions or other strategies that deviate from the long-only assumption. This could impact the results of the efficient frontier analysis and the conclusions drawn from it.\n",
    "\n",
    "Risk and return trade-offs: The efficient frontier represents a trade-off between risk and return, and the optimal portfolio allocation depends on an investor's risk tolerance and investment objectives. The results may vary depending on individual investors' risk preferences, time horizon, and other personal factors.\n",
    "\n",
    "Lack of consideration for transaction costs and taxes: The analysis may not consider transaction costs, taxes, and other fees associated with buying and selling assets, which can impact the actual returns of a portfolio in real-world investing.\n",
    "\n",
    "Assumptions of Sharpe Ratio: The Sharpe Ratio assumes that asset returns follow a normal distribution, and it measures the risk-adjusted performance of a portfolio based on historical returns. However, actual returns of assets may deviate from normal distribution, and historical returns may not necessarily reflect future performance.\n",
    "\n",
    "Assumptions of performance measures: Performance measures, such as Sharpe Ratio or other performance metrics, are based on historical returns and assumptions about risk and return. However, actual returns of assets may deviate from historical trends, and assumptions used in performance measures may not necessarily hold true in the future.\n",
    "\n",
    "Sample size and data availability: The performance of a portfolio estimated using data from only two years may not be statistically significant, especially if the data set is small or if there are data gaps or missing data. This can impact the reliability and stability of the results.\n",
    "Out-of-sample performance: Estimating the performance of the previous maximum Sharpe Ratio portfolio using data from the previous two years represents an out-of-sample analysis, and the results may not necessarily reflect future performance. Historical performance may not be indicative of future results, and past performance should not be solely relied upon for making investment decisions.\n",
    "\n",
    "Individual investor circumstances: The performance of different portfolios, including the 1/n portfolio and the previous maximum Sharpe Ratio portfolio, may vary depending on individual investor circumstances, such as risk tolerance, investment objectives, time horizon, and other personal factors. It's important to consider individual investor circumstances and customize investment strategies accordingly.\n",
    "\n",
    "Assumptions of performance measures: Performance measures, such as Sharpe Ratio or other performance metrics, are based on historical returns and assumptions about risk and return. However, actual returns of assets may deviate from historical trends, and assumptions used in performance measures may not necessarily hold true in the future.\n",
    "\n",
    "Sample size and data availability: The performance of a portfolio estimated using data from only two years may not be statistically significant, especially if the data set is small or if there are data gaps or missing data. This can impact the reliability and stability of the results.\n",
    "Out-of-sample performance: Estimating the performance of the previous maximum Sharpe Ratio portfolio using data from the previous two years represents an out-of-sample analysis, and the results may not necessarily reflect future performance. Historical performance may not be indicative of future results, and past performance should not be solely relied upon for making investment decisions.\n",
    "\n",
    "Individual investor circumstances: The performance of different portfolios, including the 1/n portfolio and the previous maximum Sharpe Ratio portfolio, may vary depending on individual investor circumstances, such as risk tolerance, investment objectives, time horizon, and other personal factors. It's important to consider individual investor circumstances and customize investment strategies accordingly.\n",
    "\n",
    "\n",
    "In conclusion we understand that both Bitcoin and Gold have been shown to exhibit low correlations to some extent with other stocks. Addition of Bitcoin and Gold can potentially offer diversification benefits in a portfolio and aids to low volatility. The above analysis uses CAPM, mean-variance optimization, to evaluate the risk and return profiles of bitcoin and gold, given their unique characteristics and market dynamics."
   ]
  },
  {
   "cell_type": "markdown",
   "id": "b7ed6733-b328-452d-9e02-0b3296ecc60a",
   "metadata": {
    "tags": []
   },
   "source": [
    "# Criteria"
   ]
  },
  {
   "cell_type": "markdown",
   "id": "9da8f9ef-ac66-43ef-ab87-13908395a846",
   "metadata": {},
   "source": [
    "1. ***Discuss and explain your findings for all 6 tasks, and be specific!***\n",
    "1. ***Your goal is to convince me of your calculations and conclusions***\n",
    "1. All tasks are worth 16.67 points each\n",
    "1. Your report should not exceed 25 pages\n",
    "1. Here are more tips\n",
    "    1. Each task includes suggestions\n",
    "    1. I suggest you include plots and calculations for all but the last task\n",
    "    1. Remove unnecessary code, outputs, and print statements\n",
    "    1. Write functions for plots and calculations that you use more than once\n",
    "    1. I will not penalize code style, but I will penalize submissions that are difficult to follow or do not follow these instructions\n",
    "1. How to submit your project\n",
    "    1. Restart your kernel, run all cells, and save your notebook\n",
    "    1. Export your notebook to PDF (`File > Save And Export Notebook As ... > PDF` in JupyterLab)\n",
    "        1. If this export does not work, you can either (1) Install MiKTeX on your laptop with default settings or (2) use DataCamp Workspace to export your notebook to PDF\n",
    "        1. You do not need to re-run your notebook to export it because notebooks store output cells\n",
    "    1. Upload your notebook and PDF to Canvas\n",
    "    1. Upload your PDF only to Gradescope and tag your tasks and teammates\n",
    "    1. Gradescope helps me give better feedback more quickly, but it is not reliable for sharing and storing your submission files"
   ]
  },
  {
   "cell_type": "code",
   "execution_count": null,
   "id": "4b7306f3-274d-4616-910c-9bd6b455c1b5",
   "metadata": {},
   "outputs": [],
   "source": [
    "# # Only consider days with complete data for Bitcoin and gold\n",
    "# returns_df = returns_df.dropna()\n",
    "\n",
    "# # Drop the columns for Bitcoin and Gold\n",
    "# returns_df1 = returns_df.drop(['BTC', 'GOLD'], axis=1)\n",
    "\n",
    "# r = returns_df.loc['2015':'2017']\n",
    "# r1 = returns_df1.loc['2015':'2017']"
   ]
  },
  {
   "cell_type": "code",
   "execution_count": null,
   "id": "ba2526cf-9e4a-46d7-af57-82ee0fa38e11",
   "metadata": {},
   "outputs": [],
   "source": [
    "# r_sharpe = sco.minimize(\n",
    "#     fun=port_sharpe_neg,\n",
    "#     x0=np.ones(r.shape[1]) / r.shape[1],\n",
    "#     args=(r, 252, 0),\n",
    "#     bounds=[(0,1) for _ in range(r.shape[1])],\n",
    "#     constraints=(\n",
    "#         {'type': 'eq', 'fun': lambda x: x.sum() - 1}\n",
    "#     )\n",
    "# )\n"
   ]
  },
  {
   "cell_type": "code",
   "execution_count": null,
   "id": "73f937a7-a71e-4c29-819f-aad09fbbae89",
   "metadata": {},
   "outputs": [],
   "source": [
    "# (r_sharpe['x'] > 0.00001).sum()"
   ]
  },
  {
   "cell_type": "code",
   "execution_count": null,
   "id": "c1177af7-034f-4f30-a025-d7eb04092df3",
   "metadata": {},
   "outputs": [],
   "source": [
    "# weights = pd.Series(data=r_sharpe['x'], index=returns_df.columns)\n",
    "# weights.nlargest(15).plot(kind='barh')"
   ]
  },
  {
   "cell_type": "code",
   "execution_count": null,
   "id": "962fd7a7-decc-4da7-81a5-61a86379b927",
   "metadata": {},
   "outputs": [],
   "source": [
    "# # Define the number of assets in the portfolio\n",
    "# n_assets = len(returns_df1.columns)\n",
    "\n",
    "# # Define the weights for the 1/n portfolio\n",
    "# weights = np.full(n_assets, 1/n_assets)\n",
    "\n",
    "# # Compute the portfolio returns\n",
    "# portfolio_returns = np.dot(returns_df1, weights)"
   ]
  }
 ],
 "metadata": {
  "author": "Richard Herron",
  "kernelspec": {
   "display_name": "Python 3 (ipykernel)",
   "language": "python",
   "name": "python3"
  },
  "language_info": {
   "codemirror_mode": {
    "name": "ipython",
    "version": 3
   },
   "file_extension": ".py",
   "mimetype": "text/x-python",
   "name": "python",
   "nbconvert_exporter": "python",
   "pygments_lexer": "ipython3",
   "version": "3.9.12"
  },
  "title": "Project 2"
 },
 "nbformat": 4,
 "nbformat_minor": 5
}
