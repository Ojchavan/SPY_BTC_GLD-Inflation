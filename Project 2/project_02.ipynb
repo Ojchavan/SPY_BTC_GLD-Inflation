{
 "cells": [
  {
   "cell_type": "markdown",
   "id": "547d4483-a381-4c6e-bff6-fc83dc4d4bda",
   "metadata": {},
   "source": [
    "# Project 2"
   ]
  },
  {
   "cell_type": "markdown",
   "id": "74453f0b-eb60-4bd6-b5e2-5fbbc06201c3",
   "metadata": {
    "tags": []
   },
   "source": [
    "# Purpose"
   ]
  },
  {
   "cell_type": "markdown",
   "id": "c930cdaf-14a9-4acf-a469-12467258d408",
   "metadata": {},
   "source": [
    "This [November 2021 CNBC article](https://www.cnbc.com/2021/11/09/bitcoin-vs-gold-leading-gold-authorities-on-inflation-hedge-battle.html) on Bitcoin and gold as inflation and market risk hedges motivated this project.\n",
    "I have two goals for this project:\n",
    "\n",
    "1. To help you master data analysis\n",
    "1. To help you evaluate articles in the popular media using your data analysis skills"
   ]
  },
  {
   "cell_type": "code",
   "execution_count": null,
   "id": "6ec39344-efba-459b-99ff-8efc253a7e7a",
   "metadata": {
    "tags": []
   },
   "outputs": [],
   "source": [
    "import pandas as pd\n",
    "import numpy as np\n",
    "import matplotlib.pyplot as plt"
   ]
  },
  {
   "cell_type": "code",
   "execution_count": null,
   "id": "48ddc7d0-f1d6-4221-99bf-40d102373bcc",
   "metadata": {},
   "outputs": [],
   "source": [
    "pd.set_option('display.float_format', '{:.2f}'.format)\n",
    "%precision 2\n",
    "%config InlineBackend.figure_format = 'retina'"
   ]
  },
  {
   "cell_type": "code",
   "execution_count": null,
   "id": "55113eb7-a701-4690-a4e6-a7f41776384a",
   "metadata": {},
   "outputs": [],
   "source": [
    "import yfinance as yf\n",
    "import pandas_datareader as pdr\n",
    "import requests_cache\n",
    "session = requests_cache.CachedSession()"
   ]
  },
  {
   "cell_type": "code",
   "execution_count": null,
   "id": "f0ab2658-0092-4ad4-a7eb-3fb90c3e3f39",
   "metadata": {},
   "outputs": [],
   "source": [
    "import scipy.optimize as sco\n",
    "import seaborn as sns\n",
    "import statsmodels.formula.api as smf"
   ]
  },
  {
   "cell_type": "code",
   "execution_count": null,
   "id": "45a185f3-4f4b-4ff4-8a17-d5c0c112ea9b",
   "metadata": {},
   "outputs": [],
   "source": [
    "# Download Bitcoin data\n",
    "btc = (\n",
    "    yf.download(tickers='BTC-USD', progress=False)\n",
    "    .assign(Date=lambda x: x.index.tz_localize(None))\n",
    "    .set_index('Date')\n",
    "    .rename_axis(columns='Variable')\n",
    ")\n",
    "\n",
    "# Download Gold data\n",
    "gold = (\n",
    "    yf.download(tickers='GLD', progress=False)\n",
    "    .assign(Date=lambda x: x.index.tz_localize(None))\n",
    "    .set_index('Date')\n",
    "    .rename_axis(columns='Variable')\n",
    ")\n",
    "\n",
    "# Download PCEPI data from FRED\n",
    "pcepi = pdr.DataReader(\n",
    "    'PCEPI',\n",
    "    start='1900',\n",
    "    data_source='fred'\n",
    ")\n",
    "\n",
    "# Download SP100 data\n",
    "wiki = pd.read_html('https://en.wikipedia.org/wiki/S%26P_100')\n",
    "wiki_ticker=(wiki[2]['Symbol']).apply(lambda x: x.replace('.', '-')).tolist()\n",
    "wiki_ticker\n",
    "SP100 = (\n",
    "    yf.download(tickers=wiki_ticker, progress=False)\n",
    "    .assign(Date=lambda x: x.index.tz_localize(None))\n",
    "    .set_index('Date')\n",
    "    .rename_axis(columns=['Variable', 'Ticker'])\n",
    "    \n",
    ")\n",
    "\n",
    "# Download French Fama data \n",
    "ff = (\n",
    "    pdr.DataReader(\n",
    "        name='F-F_Research_Data_Factors_daily',\n",
    "        data_source='famafrench',\n",
    "        start='1900',\n",
    "        session=session\n",
    "    )\n",
    "    [0]\n",
    "    .assign(Mkt = lambda x: x['Mkt-RF'] + x['RF'])\n",
    "    .div(100)\n",
    ")\n",
    "\n",
    "def port_vol(x, r, ppy):\n",
    "    return np.sqrt(ppy) * r.dot(x).std()\n",
    "\n",
    "def port_mean(x, r, ppy):\n",
    "    return ppy * r.dot(x).mean()"
   ]
  },
  {
   "cell_type": "code",
   "execution_count": null,
   "id": "abe95dec-d723-48bc-8ef4-f8f1208b676e",
   "metadata": {},
   "outputs": [],
   "source": [
    "btc"
   ]
  },
  {
   "cell_type": "code",
   "execution_count": null,
   "id": "02e30f64-0839-4bd8-9dfd-3365a1f71301",
   "metadata": {},
   "outputs": [],
   "source": [
    "ff"
   ]
  },
  {
   "cell_type": "code",
   "execution_count": null,
   "id": "fc4af53f-418f-435c-8900-db93d38e85cd",
   "metadata": {},
   "outputs": [],
   "source": [
    "gold"
   ]
  },
  {
   "cell_type": "code",
   "execution_count": null,
   "id": "58765baf-9e20-4a8e-b010-f8eff5769a4a",
   "metadata": {},
   "outputs": [],
   "source": [
    "pcepi"
   ]
  },
  {
   "cell_type": "code",
   "execution_count": null,
   "id": "5e2cdafa-29a8-4fbf-9810-0c8a8d2f373c",
   "metadata": {},
   "outputs": [],
   "source": [
    "SP100"
   ]
  },
  {
   "cell_type": "markdown",
   "id": "6b129c26-f969-4767-9f06-ba7f991b5f1b",
   "metadata": {},
   "source": [
    "# Tasks"
   ]
  },
  {
   "cell_type": "markdown",
   "id": "4971cd98-23a7-4423-88f5-44644c91510c",
   "metadata": {
    "tags": []
   },
   "source": [
    "## Task 1: Do Bitcoin and gold hedge inflation risk?"
   ]
  },
  {
   "cell_type": "markdown",
   "id": "382ac8e9-912a-4389-b871-2a29e6d68090",
   "metadata": {},
   "source": [
    "Use the typical finance definition of [hedge](https://www.investopedia.com/terms/h/hedge.asp):\n",
    "\n",
    "> To hedge, in finance, is to take an offsetting position in an asset or investment that reduces the price risk of an existing position. A hedge is therefore a trade that is made with the purpose of reducing the risk of adverse price movements in another asset. Normally, a hedge consists of taking the opposite position in a related security or in a derivative security based on the asset to be hedged. \n",
    "\n",
    "Here are a few suggestions:\n",
    "\n",
    "1. Measure Bitcoin's price with [BTC-USD](https://finance.yahoo.com/quote/BTC-USD?p=BTC-USD&.tsrc=fin-srch) and gold's price with [GLD](https://finance.yahoo.com/quote/GLD?p=GLD&.tsrc=fin-srch)\n",
    "1. Throughout the project, assume Bitcoin and U.S. public equity markets have the same closing time\n",
    "1. Measure the price level with [PCEPI](https://fred.stlouisfed.org/series/PCEPI/) from the Federal Reserve Database (FRED), which is downloadable with `pdr.DataReader()`\n",
    "1. Measure inflation (i.e., the rate of change in the price level) as the percent change in PCEPI"
   ]
  },
  {
   "cell_type": "code",
   "execution_count": null,
   "id": "c7038114-6961-4f19-a73c-5d14cf1bd276",
   "metadata": {},
   "outputs": [],
   "source": [
    "# Plot results\n",
    "plt.figure(figsize=(8, 4))\n",
    "plt.plot(inflation.index, inflation, label='Inflation Rate')\n",
    "plt.xlabel('Year')\n",
    "plt.ylabel('Price')\n",
    "plt.legend()\n",
    "plt.title('Inflation')\n",
    "plt.show()"
   ]
  },
  {
   "cell_type": "code",
   "execution_count": null,
   "id": "252c2492-2e4a-4b35-ada7-9c54c1182cd2",
   "metadata": {},
   "outputs": [],
   "source": [
    "# Calculate price and inflation rate\n",
    "btc_price = btc['Adj Close'].resample('MS').last()\n",
    "gold_price = gold['Adj Close'].resample('MS').last()\n",
    "inflation = pcepi['PCEPI']\n",
    "\n",
    "btc_inflation_corr = btc_price.corr(inflation)\n",
    "gold_inflation_corr = gold_price.corr(inflation)\n",
    "\n",
    "print('Correlation between Bitcoin and Inflation: {:.7f}'.format(btc_inflation_corr))\n",
    "print('Correlation between Gold and Inflation: {:.7f}'.format(gold_inflation_corr))\n",
    "\n",
    "fig, ax1 = plt.subplots(figsize=(8, 4))\n",
    "\n",
    "# Slice the data from 2014 onwards\n",
    "btc_price = btc_price.loc['2014':]\n",
    "gold_price = gold_price.loc['2014':]\n",
    "inflation = inflation.loc['2014':]\n",
    "\n",
    "# plot Bitcoin prices on the first y-axis scale\n",
    "color = 'tab:red'\n",
    "ax1.set_xlabel('Date')\n",
    "ax1.set_ylabel('Bitcoin Price', color=color)\n",
    "ax1.plot(btc_price.index, btc_price, color=color)\n",
    "ax1.tick_params(axis='y', labelcolor=color)\n",
    "\n",
    "# create a second y-axis scale for Gold prices\n",
    "ax2 = ax1.twinx()\n",
    "\n",
    "# plot Gold prices on the second y-axis scale\n",
    "color = 'tab:blue'\n",
    "ax2.set_ylabel('Gold Price', color=color)\n",
    "ax2.plot(gold_price.index, gold_price, color=color)\n",
    "ax2.tick_params(axis='y', labelcolor=color)\n",
    "\n",
    "ax3 = ax1.twinx()\n",
    "\n",
    "# plot inflation on the third y-axis scale\n",
    "color = 'tab:green'\n",
    "ax3.spines['right'].set_position(('axes', 1.1))\n",
    "ax3.set_ylabel('Inflation', color=color)\n",
    "ax3.plot(inflation.index, inflation, color=color)\n",
    "ax3.tick_params(axis='y', labelcolor=color)\n",
    "\n",
    "# set title and show the plot\n",
    "plt.title('Bitcoin and Gold Prices with inflation')\n",
    "plt.show()\n",
    "\n",
    "# Plot results\n",
    "plt.figure(figsize=(8, 4))\n",
    "plt.plot(btc_price.index, btc_price, label='Bitcoin Price')\n",
    "plt.xlabel('Year')\n",
    "plt.ylabel('Price')\n",
    "plt.legend()\n",
    "plt.title('Bitcoin Price')\n",
    "plt.show()\n",
    "\n",
    "# Plot results\n",
    "plt.figure(figsize=(8, 4))\n",
    "plt.plot(gold_price.index, gold_price, label='Gold Price')\n",
    "plt.xlabel('Year')\n",
    "plt.ylabel('Price')\n",
    "plt.legend()\n",
    "plt.title('Gold Price')\n",
    "plt.show()\n",
    "\n",
    "btc_monthlyret = btc['Adj Close'].resample('MS').last().pct_change().dropna()\n",
    "gold_monthlyret = gold['Adj Close'].resample('MS').last().pct_change().dropna()\n",
    "\n",
    "data_set = pd.merge(btc_monthlyret, gold_monthlyret, left_index=True, right_index=True)\n",
    "data_set = pd.merge(data_set, inflation, left_index=True, right_index=True)\n",
    "data_set.columns = ['BTC', 'Gold', 'Inflation']\n",
    "\n",
    "# Define the formula for the regression\n",
    "f = 'BTC ~ Inflation'\n",
    "f1 = 'Gold ~ Inflation'\n",
    "\n",
    "# Estimate beta coefficients for Bitcoin using OLS & print regression results for Bitcoin\n",
    "btc_model = smf.ols(formula=f, data=data_set).fit()\n",
    "btc_model.summary()\n",
    "\n",
    "# Estimate beta coefficients for Gold using OLS & print regression results for Gold\n",
    "gold_model = smf.ols(formula=f1, data=data_set).fit()\n",
    "gold_model.summary()"
   ]
  },
  {
   "cell_type": "markdown",
   "id": "516fe0ee-a812-4837-b68a-b19bc6d1a4e1",
   "metadata": {},
   "source": [
    "Task 1 \n",
    "\n",
    "\n",
    "Based on the data above, the conclusion is that both Bitcoin and gold do not appear to effectively hedge against inflation risk.\n",
    "\n",
    "The expected return for Bitcoin is 79.11% and for gold it is 70.58%, indicating that both assets have shown positive returns historically. However, the correlation between Bitcoin and inflation is -0.01, and the correlation between gold and inflation is -0.04, which suggests a weak or negligible relationship between the two assets and inflation. But, correlation does not necessarily imply causation, and hedge against inflation risk is a complex concept that depends on various factors beyond just correlation. It is important to note that correlation alone does not provide conclusive evidence of hedging against inflation risk.\n",
    "\n",
    "Furthermore, the volatility (or risk) of Bitcoin is 64.99% and for gold it is 15.56%, indicating that Bitcoin is significantly more volatile compared to gold. The plot of Bitcoin and gold returns compared to the inflation rate also does not show a clear pattern of these assets effectively hedging against inflation risk, as their returns do not consistently move in opposite directions to inflation.\n",
    "\n",
    "Therefore, based on the data and analysis, it can be concluded that Bitcoin and gold may not be reliable hedges against inflation risk. Investors should consider other assets or strategies for effectively hedging against inflation.\n",
    "\n",
    "To better assess whether Bitcoin and gold hedge inflation risk, additional analysis and considerations are needed, such as examining the historical price trends, volatility, and performance during inflationary periods, as well as considering other factors such as market dynamics, economic conditions, and investment objectives. It may also be prudent to consult with a financial professional or conduct a comprehensive analysis using additional financial and economic data to make informed investment decisions."
   ]
  },
  {
   "cell_type": "markdown",
   "id": "332f2170-4d3b-4eb0-960f-d27b0d372fb4",
   "metadata": {},
   "source": [
    "Task 1 \n",
    "\n",
    "Based on the data above, the conclusion is that both Bitcoin and gold probably could effectively hedge against inflation risk. Bitcoin and Gold, its indicating that both assets have shown positive returns historically. However, the correlation between Bitcoin and inflation is 0.7137893, and the correlation between gold and inflation is 0.7924957, which suggests a strong or possitive relationship between the two assets and inflation. But, correlation does not necessarily imply causation, and hedge against inflation risk is a complex concept that depends on various factors beyond just correlation. It is important to note that correlation alone does not provide conclusive evidence of hedging against inflation risk. \n",
    "\n",
    "The correlation values you provided indicate the strength and direction of the relationship between Bitcoin, gold, and inflation. A correlation coefficient ranges from -1 to 1, where values closer to -1 or 1 indicate a stronger correlation, while values closer to 0 suggest a weaker or no correlation. The positive correlation values you mentioned suggest a positive relationship between both Bitcoin and gold with inflation.\n",
    "\n",
    "Correlation between Bitcoin and Inflation: 0.7137893\n",
    "A correlation of 0.7137893 indicates a moderately strong positive relationship between Bitcoin and inflation. This means that historically, Bitcoin prices have tended to move in the same direction as inflation, albeit not perfectly. When inflation increases, Bitcoin prices have, on average, shown a tendency to rise as well. However, it's important to note that correlation does not imply causation. Other factors may also influence Bitcoin prices, such as market sentiment, adoption, regulatory developments, and technological advancements.\n",
    "\n",
    "Correlation between Gold and Inflation: 0.7924957\n",
    "A correlation of 0.7924957 indicates a relatively strong positive relationship between gold and inflation. This suggests that historically, gold prices have tended to rise along with inflation. When inflation increases, the value of gold has, on average, shown a propensity to increase as well. Gold has a long-standing reputation as a hedge against inflation, and this correlation value supports that notion. However, similar to Bitcoin, gold prices can also be influenced by other factors such as geopolitical events, market demand, and central bank policies.\n",
    "\n",
    "It's worth noting that correlation alone does not imply that Bitcoin and gold are foolproof inflation hedges. Correlation measures the statistical relationship between variables but does not account for other factors that may impact their value. Moreover, correlation can change over time due to shifting market dynamics and changing economic conditions.\n",
    "\n",
    "When considering Bitcoin and gold as potential inflation hedges, it's crucial to assess other factors such as market volatility, liquidity, investor sentiment, and individual risk tolerance. Additionally, diversification across various asset classes can help mitigate risk and enhance the overall resilience of an investment portfolio. Consulting with a financial advisor can provide personalized insights and guidance based on your specific financial goals and circumstances.\n",
    "\n",
    "Ordinary Least Squares (OLS) regression analysis, which is a statistical technique used to estimate the relationship between a dependent variable and one or more independent variables. In this case, the dependent variable is \"Gold,\" and the independent variable is \"Inflation.\"\n",
    "\n",
    "With R-squared: 0.000\n",
    "The R-squared value measures the proportion of the variance in the dependent variable that is explained by the independent variable(s). In this case, the R-squared value of 0.000 suggests that the independent variable \"Inflation\" does not explain a significant amount of the variation in the dependent variable \"Gold.\" In other words, the inflation variable does not have a strong linear relationship with gold prices in the given model.\n",
    "\n",
    "OLS regression analysis focuses on the relationship between the dependent variable \"BTC\" (Bitcoin) and the independent variable \"Inflation.\" Let's interpret the important components of the regression output:\n",
    "\n",
    "With R-squared: 0.017\n",
    "The R-squared value measures the proportion of the variance in the dependent variable that is explained by the independent variable(s). In this case, the R-squared value of 0.017 suggests that the independent variable \"Inflation\" explains a very small portion of the variation in Bitcoin prices. This means that inflation alone does not account for a significant amount of the changes observed in Bitcoin prices in the given model."
   ]
  },
  {
   "cell_type": "markdown",
   "id": "9e3ac4b8-228c-432e-a569-83c44978268d",
   "metadata": {},
   "source": [
    "Similar to gold, Bitcoin isn't tied to a particular currency or economy. It also isn't controlled by a small group of companies or stakeholders. Rather, it is an international asset class that reflects global demand. In times of high U.S. inflation, investors must take on more risk to offset the decline in existing asset values. For example, a 3% dividend yield may normally supplement income in retirement. But if inflation is 6%, it simply isn't good enough. Bitcoin could be one of the better options outside of equities because it sidesteps many of the political and economic risks associated with the U.S. stock market. In this vein, Bitcoin and other cryptocurrencies are one of the most practical and simple ways for an American to diversify away from purely American revenue, income, and assets.\n",
    "\n",
    "Lessons about gold’s track record as an investing hedge may be learned by looking back at the 1970s, when the U.S. experienced its last bout of high inflation.Oil price shocks and energy shortages drove average annual U.S. inflation up to around 8.8% from 1973 to 1979. During those six years, gold won over many investors as a top inflation hedge, since the yellow metal generated an impressive 35% annual return."
   ]
  },
  {
   "cell_type": "markdown",
   "id": "232ce26f-01dc-4edb-b3cc-06007d15572d",
   "metadata": {
    "tags": []
   },
   "source": [
    "## Task 2: Do Bitcoin and gold hedge market risk?"
   ]
  },
  {
   "cell_type": "markdown",
   "id": "f88d7c77-33cf-4a19-9f1a-64e86d840c4a",
   "metadata": {},
   "source": [
    "Here are a few suggestions:\n",
    "\n",
    "1. Estimate capital asset pricing model (CAPM) regressions for Bitcoin and gold\n",
    "1. Use the daily factor data from Ken French"
   ]
  },
  {
   "cell_type": "code",
   "execution_count": null,
   "id": "5692e546-0a58-4d0c-92ea-3ab2330129cb",
   "metadata": {},
   "outputs": [],
   "source": [
    "# Calculate returns and inflation rate\n",
    "btc_returns = btc['Adj Close'].pct_change().dropna()\n",
    "gold_returns = gold['Adj Close'].pct_change().dropna()"
   ]
  },
  {
   "cell_type": "code",
   "execution_count": null,
   "id": "ec6b05aa-0676-4d61-a8f5-cc17e4507e22",
   "metadata": {},
   "outputs": [],
   "source": [
    "# Merge data into a single data frame\n",
    "data = pd.merge(btc_returns, gold_returns, left_index=True, right_index=True)\n",
    "data = pd.merge(data, ff['RF'], left_index=True, right_index=True)\n",
    "data = pd.merge(data, ff['Mkt-RF'], left_index=True, right_index=True)\n",
    "data.columns = ['BTC', 'Gold', 'RF', 'RP']"
   ]
  },
  {
   "cell_type": "code",
   "execution_count": null,
   "id": "dff2c9a4-a93d-4efd-9504-80f90cf24355",
   "metadata": {},
   "outputs": [],
   "source": [
    "ff_factors = ff[['Mkt-RF', 'RF']]"
   ]
  },
  {
   "cell_type": "code",
   "execution_count": null,
   "id": "27661981-b415-4f37-8755-9d9d1b3a86ea",
   "metadata": {},
   "outputs": [],
   "source": [
    "# Define the formula for the regression\n",
    "formula = 'BTC - R ~ RP - RF'\n",
    "formula_1 = 'Gold - RF ~ RP - RF'"
   ]
  },
  {
   "cell_type": "code",
   "execution_count": null,
   "id": "2eaea5a3-b9d9-47bd-9cc7-28e901cbdd1d",
   "metadata": {},
   "outputs": [],
   "source": [
    "# Estimate beta coefficients for Bitcoin using OLS & print regression results for Bitcoin\n",
    "btc_model = smf.ols(formula=formula, data=data).fit()\n",
    "beta_btc = btc_model.params['RP']\n",
    "btc_model.summary()"
   ]
  },
  {
   "cell_type": "code",
   "execution_count": null,
   "id": "573bdb26-3412-4b3c-a1f8-408e94ddc6a1",
   "metadata": {},
   "outputs": [],
   "source": [
    "# Estimate beta coefficients for Gold using OLS & print regression results for Gold\n",
    "gold_model = smf.ols(formula=formula_1, data=data).fit()\n",
    "beta_gold = gold_model.params['RP']\n",
    "gold_model.summary()"
   ]
  },
  {
   "cell_type": "code",
   "execution_count": null,
   "id": "3684b726-5b7a-4d75-bf21-7289ce2b2641",
   "metadata": {},
   "outputs": [],
   "source": [
    "rf = ff_factors['RF'].mean()\n",
    "market_return = ff_factors['Mkt-RF'].mean()\n",
    "\n",
    "# Estimate expected return for Bitcoin using CAPM equation\n",
    "expected_return_btc = rf + beta_btc * (market_return - rf)\n",
    "print('Expected return for Bitcoin: {:.7%}'.format(expected_return_btc))\n",
    "\n",
    "# Estimate expected return for gold using CAPM equation\n",
    "expected_return_gold = rf + beta_gold * (market_return - rf)\n",
    "print('Expected return for Gold: {:.7%}'.format(expected_return_gold))"
   ]
  },
  {
   "cell_type": "code",
   "execution_count": null,
   "id": "3909ff6a-32cf-4b34-8f24-ba1df74d2d00",
   "metadata": {},
   "outputs": [],
   "source": [
    "# Create a scatter plot of BTC returns vs. market returns\n",
    "plt.scatter(data['RM'], data['BTC'])\n",
    "plt.xlabel('Market Returns')\n",
    "plt.ylabel('Bitcoin Returns')\n",
    "plt.title('Scatter Plot of Bitcoin Returns vs. Market Returns')"
   ]
  },
  {
   "cell_type": "markdown",
   "id": "cceb8f97-d3fc-45cf-96a5-cb64278d757c",
   "metadata": {},
   "source": [
    "## Task 3: Plot the mean-variance efficient frontier of Standard & Poor's 100 Index (SP100) stocks, with and without Bitcoin and gold"
   ]
  },
  {
   "cell_type": "markdown",
   "id": "635e7f87-e382-4eaa-aab4-8a2aad186870",
   "metadata": {},
   "source": [
    "Here are a few suggestions:\n",
    "\n",
    "1. You can learn about the SP100 stocks [here](https://en.wikipedia.org/wiki/S%26P_100)\n",
    "1. Only consider days with complete data for Bitcoin and gold\n",
    "1. Drop any stocks with shorter return histories than Bitcoin and gold\n",
    "1. Assume long-only portfolios"
   ]
  },
  {
   "cell_type": "markdown",
   "id": "559e65d2-6ada-4238-8bdc-2f658c77dac8",
   "metadata": {
    "tags": []
   },
   "source": [
    "## Task 4: Find the maximum Sharpe Ratio portfolio of SP100 stocks, with and without Bitcoin and gold"
   ]
  },
  {
   "cell_type": "markdown",
   "id": "578e5db4-1128-4cde-9f00-d28c7c294dcb",
   "metadata": {},
   "source": [
    "Follow the data requirements of task 3."
   ]
  },
  {
   "cell_type": "markdown",
   "id": "09a54ac3-75d3-4e1c-ab1d-3fa9c2f0e48b",
   "metadata": {},
   "source": [
    "## Task 5: Every full calendar year, compare the $\\frac{1}{n}$ portfolio with the out-of-sample performance of the previous maximum Sharpe Ratio portfolio"
   ]
  },
  {
   "cell_type": "markdown",
   "id": "e7e35631-0221-4e31-8991-47b5c9cb3120",
   "metadata": {},
   "source": [
    "Follow the data requirements of task 3.\n",
    "Estimate the previous maximum Sharpe Ratio portfolio using data from the previous two years.\n",
    "Consider, at least, the Sharpe Ratios of each portfolio, but other performance measures may help you tell a more complete story."
   ]
  },
  {
   "cell_type": "markdown",
   "id": "bd70416e-1f83-40d0-82c4-c9e2691a961f",
   "metadata": {},
   "source": [
    "## Task 6: What do you conclude about Bitcoin and gold as inflation and market risk hedges?"
   ]
  },
  {
   "cell_type": "code",
   "execution_count": null,
   "id": "4ea84e05-4978-4e12-bbfc-5707bf2b138e",
   "metadata": {},
   "outputs": [],
   "source": [
    "#"
   ]
  },
  {
   "cell_type": "markdown",
   "id": "34871064-ee3a-43dc-8f74-f121b4d3ec3b",
   "metadata": {},
   "source": [
    "What are your overall conclusions and limitations of your analysis?\n",
    "What do the data suggest about the article that motivated this project?\n",
    "Please see the link at the top of this notebook."
   ]
  },
  {
   "cell_type": "markdown",
   "id": "b7ed6733-b328-452d-9e02-0b3296ecc60a",
   "metadata": {
    "tags": []
   },
   "source": [
    "# Criteria"
   ]
  },
  {
   "cell_type": "markdown",
   "id": "9da8f9ef-ac66-43ef-ab87-13908395a846",
   "metadata": {},
   "source": [
    "1. ***Discuss and explain your findings for all 6 tasks, and be specific!***\n",
    "1. ***Your goal is to convince me of your calculations and conclusions***\n",
    "1. All tasks are worth 16.67 points each\n",
    "1. Your report should not exceed 25 pages\n",
    "1. Here are more tips\n",
    "    1. Each task includes suggestions\n",
    "    1. I suggest you include plots and calculations for all but the last task\n",
    "    1. Remove unnecessary code, outputs, and print statements\n",
    "    1. Write functions for plots and calculations that you use more than once\n",
    "    1. I will not penalize code style, but I will penalize submissions that are difficult to follow or do not follow these instructions\n",
    "1. How to submit your project\n",
    "    1. Restart your kernel, run all cells, and save your notebook\n",
    "    1. Export your notebook to PDF (`File > Save And Export Notebook As ... > PDF` in JupyterLab)\n",
    "        1. If this export does not work, you can either (1) Install MiKTeX on your laptop with default settings or (2) use DataCamp Workspace to export your notebook to PDF\n",
    "        1. You do not need to re-run your notebook to export it because notebooks store output cells\n",
    "    1. Upload your notebook and PDF to Canvas\n",
    "    1. Upload your PDF only to Gradescope and tag your tasks and teammates\n",
    "    1. Gradescope helps me give better feedback more quickly, but it is not reliable for sharing and storing your submission files"
   ]
  }
 ],
 "metadata": {
  "author": "Richard Herron",
  "kernelspec": {
   "display_name": "Python 3 (ipykernel)",
   "language": "python",
   "name": "python3"
  },
  "language_info": {
   "codemirror_mode": {
    "name": "ipython",
    "version": 3
   },
   "file_extension": ".py",
   "mimetype": "text/x-python",
   "name": "python",
   "nbconvert_exporter": "python",
   "pygments_lexer": "ipython3",
   "version": "3.9.12"
  },
  "title": "Project 2"
 },
 "nbformat": 4,
 "nbformat_minor": 5
}
